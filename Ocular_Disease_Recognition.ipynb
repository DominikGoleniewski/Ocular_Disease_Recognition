{
  "cells": [
    {
      "cell_type": "code",
      "execution_count": null,
      "metadata": {
        "id": "dcmNIPQMF5hD"
      },
      "outputs": [],
      "source": [
        "import numpy as np\n",
        "import pandas as pd\n",
        "import os\n",
        "import cv2\n",
        "import random\n",
        "from tqdm import tqdm\n",
        "import matplotlib.pyplot as plt\n",
        "from tensorflow.keras.preprocessing.image import ImageDataGenerator"
      ]
    },
    {
      "cell_type": "markdown",
      "metadata": {
        "id": "zo92DjwwHMqo"
      },
      "source": [
        "**Reading the datasets from the directory**"
      ]
    },
    {
      "cell_type": "code",
      "execution_count": null,
      "metadata": {
        "colab": {
          "base_uri": "https://localhost:8080/"
        },
        "id": "G3PE8DR9iMiR",
        "outputId": "901e2a51-c2c3-4866-ff94-46ff0e9b97f2"
      },
      "outputs": [
        {
          "output_type": "stream",
          "name": "stdout",
          "text": [
            "Drive already mounted at /content/gdrive; to attempt to forcibly remount, call drive.mount(\"/content/gdrive\", force_remount=True).\n"
          ]
        }
      ],
      "source": [
        "from google.colab import drive\n",
        "\n",
        "drive.mount('/content/gdrive')"
      ]
    },
    {
      "cell_type": "code",
      "execution_count": null,
      "metadata": {
        "id": "4LoXKJujLGP0"
      },
      "outputs": [],
      "source": [
        "import zipfile\n",
        "with zipfile.ZipFile('/content/gdrive/MyDrive/Colab Notebooks/dataset.zip', 'r') as zip_ref:\n",
        "    zip_ref.extractall('/content')"
      ]
    },
    {
      "cell_type": "markdown",
      "metadata": {
        "id": "CmLFzzGAhoAv"
      },
      "source": [
        "# Nowa sekcja"
      ]
    },
    {
      "cell_type": "code",
      "execution_count": null,
      "metadata": {
        "id": "47l13kZEHU2n"
      },
      "outputs": [],
      "source": [
        "data = pd.read_csv(\"/content/dataset/full_df.csv\")\n",
        "data.head(20)"
      ]
    },
    {
      "cell_type": "markdown",
      "metadata": {
        "id": "S7HnSQN2awQd"
      },
      "source": [
        "**Information Extraction from keywords given to the patients after diagnosed**"
      ]
    },
    {
      "cell_type": "code",
      "execution_count": null,
      "metadata": {
        "id": "qC15HcBOaoDe"
      },
      "outputs": [],
      "source": [
        "def has_condn(term,text):\n",
        "    if term in text:\n",
        "        return 1\n",
        "    else:\n",
        "        return 0"
      ]
    },
    {
      "cell_type": "markdown",
      "metadata": {
        "id": "gSsxqVIraySt"
      },
      "source": [
        "Attaching labels based whether cataract is present on which eye (left/right)"
      ]
    },
    {
      "cell_type": "code",
      "execution_count": null,
      "metadata": {
        "id": "iyldOYSGa0Po"
      },
      "outputs": [],
      "source": [
        "def process_dataset(data):\n",
        "    #create 2 more columns labelling them whether right or left eye has condition\n",
        "    data[\"LC\"] = data[\"Left-Diagnostic Keywords\"].apply(lambda x: has_condn(\"cataract\",x))\n",
        "    data[\"RC\"] = data[\"Right-Diagnostic Keywords\"].apply(lambda x: has_condn(\"cataract\",x))\n",
        "\n",
        "    data[\"LD\"] = data[\"Left-Diagnostic Keywords\"].apply(lambda x: has_condn(\"non proliferative retinopathy\",x))\n",
        "    data[\"RD\"] = data[\"Right-Diagnostic Keywords\"].apply(lambda x: has_condn(\"non proliferative retinopathy\",x))\n",
        "\n",
        "    data[\"LG\"] = data[\"Left-Diagnostic Keywords\"].apply(lambda x: has_condn(\"glaucoma\",x))\n",
        "    data[\"RG\"] = data[\"Right-Diagnostic Keywords\"].apply(lambda x: has_condn(\"glaucoma\",x))\n",
        "\n",
        "    data[\"LH\"] = data[\"Left-Diagnostic Keywords\"].apply(lambda x: has_condn(\"hypertensive\",x))\n",
        "    data[\"RH\"] = data[\"Right-Diagnostic Keywords\"].apply(lambda x: has_condn(\"hypertensive\",x))\n",
        "\n",
        "    data[\"LM\"] = data[\"Left-Diagnostic Keywords\"].apply(lambda x: has_condn(\"myopia\",x))\n",
        "    data[\"RM\"] = data[\"Right-Diagnostic Keywords\"].apply(lambda x: has_condn(\"myopia\",x))\n",
        "\n",
        "    data[\"LA\"] = data[\"Left-Diagnostic Keywords\"].apply(lambda x: has_condn(\"macular degeneration\",x))\n",
        "    data[\"RA\"] = data[\"Right-Diagnostic Keywords\"].apply(lambda x: has_condn(\"macular degeneration\",x))\n",
        "\n",
        "    data[\"LO\"] = data[\"Left-Diagnostic Keywords\"].apply(lambda x: has_condn(\"drusen\",x))\n",
        "    data[\"RO\"] = data[\"Right-Diagnostic Keywords\"].apply(lambda x: has_condn(\"drusen\",x))\n",
        "\n",
        "    #store the right/left cataract images ids in a array\n",
        "    left_cataract_images = data.loc[(data.LC == 1)][\"Left-Fundus\"].values\n",
        "    right_cataract_images = data.loc[(data.RC == 1)][\"Right-Fundus\"].values\n",
        "\n",
        "    #store the left/right normal image ids in a array\n",
        "    left_normal = data.loc[(data[\"Left-Diagnostic Keywords\"] == \"normal fundus\")]['Left-Fundus'].sample(400,random_state=42).values\n",
        "    right_normal = data.loc[(data[\"Right-Diagnostic Keywords\"] == \"normal fundus\")]['Right-Fundus'].sample(400,random_state=42).values\n",
        "\n",
        "    #store the left/right diabetes image ids\n",
        "    left_diab = data.loc[(data.LD == 1)][\"Left-Fundus\"].values\n",
        "    right_diab = data.loc[(data.RD == 1)][\"Right-Fundus\"].values\n",
        "\n",
        "    #store the left/right glaucoma image ids\n",
        "    left_glaucoma = data.loc[(data.LG == 1)][\"Left-Fundus\"].values\n",
        "    right_glaucoma = data.loc[(data.RG == 1)][\"Right-Fundus\"].values\n",
        "\n",
        "    #store the left/right diabetes image ids\n",
        "    left_hyper = data.loc[(data.LH == 1)][\"Left-Fundus\"].values\n",
        "    right_hyper = data.loc[(data.RH == 1)][\"Right-Fundus\"].values\n",
        "\n",
        "    #store the left/right diabetes image ids\n",
        "    left_myopia = data.loc[(data.LM == 1)][\"Left-Fundus\"].values\n",
        "    right_myopia = data.loc[(data.RM == 1)][\"Right-Fundus\"].values\n",
        "\n",
        "    #store the left/right diabetes image ids\n",
        "    left_age = data.loc[(data.LA == 1)][\"Left-Fundus\"].values\n",
        "    right_age = data.loc[(data.RA == 1)][\"Right-Fundus\"].values\n",
        "\n",
        "    #store the left/right diabetes image ids\n",
        "    left_other = data.loc[(data.LO == 1)][\"Left-Fundus\"].values\n",
        "    right_other = data.loc[(data.RO == 1)][\"Right-Fundus\"].values\n",
        "\n",
        "    normalones = np.concatenate((left_normal,right_normal),axis = 0);\n",
        "    # normalones = np.unique(normalones);\n",
        "    cataractones = np.concatenate((left_cataract_images,right_cataract_images),axis = 0);\n",
        "    # cataractones = np.unique(cataractones);\n",
        "    diabones = np.concatenate((left_diab,right_diab),axis = 0);\n",
        "    # diabones = np.unique(diabones);\n",
        "    glaucoma = np.concatenate((left_glaucoma,right_glaucoma),axis = 0);\n",
        "    # glaucoma = np.unique(glaucoma);\n",
        "    hyper = np.concatenate((left_hyper,right_hyper),axis = 0);\n",
        "    # hyper = np.unique(hyper);\n",
        "    myopia = np.concatenate((left_myopia,right_myopia),axis = 0);\n",
        "    # myopia = np.unique(myopia);\n",
        "    age = np.concatenate((left_age,right_age),axis=0);\n",
        "    # age = np.unique(age);\n",
        "    other = np.concatenate((left_other,right_other),axis = 0);\n",
        "    # other = np.unique(other);\n",
        "\n",
        "    return normalones,cataractones,diabones,glaucoma,hyper,myopia,age,other;"
      ]
    },
    {
      "cell_type": "code",
      "execution_count": null,
      "metadata": {
        "id": "PEjpxsHJbEKM"
      },
      "outputs": [],
      "source": [
        "normal , cataract , diab, glaucoma , hyper , myopia , age, other = process_dataset(data);\n",
        "\n",
        "print(\"Dataset stats::\")\n",
        "print(\"Normal ::\" , len(normal))\n",
        "print(\"Cataract ::\" , len(cataract))\n",
        "print(\"Diabetes ::\" , len(diab))\n",
        "print(\"Glaucoma ::\" , len(glaucoma))\n",
        "print(\"Hypertension ::\" , len(hyper))\n",
        "print(\"Myopia ::\" , len(myopia))\n",
        "print(\"Age Issues ::\" , len(age))\n",
        "print(\"Other ::\" , len(other))"
      ]
    },
    {
      "cell_type": "markdown",
      "metadata": {
        "id": "Q2Nihfw3bji7"
      },
      "source": [
        "**Generating Dataset**"
      ]
    },
    {
      "cell_type": "code",
      "execution_count": null,
      "metadata": {
        "id": "TU-uVY-jbVrc"
      },
      "outputs": [],
      "source": [
        "from tensorflow.keras.preprocessing.image import load_img,img_to_array\n",
        "dataset_dir = \"/content/dataset/preprocessed_images\"\n",
        "image_size=224\n",
        "labels = []\n",
        "dataset = []\n",
        "\n",
        "def dataset_generator(imagecategory , label):\n",
        "    for img in tqdm(imagecategory):\n",
        "        imgpath = os.path.join(dataset_dir,img);\n",
        "        try:\n",
        "            image = cv2.imread(imgpath,cv2.IMREAD_COLOR)\n",
        "            image = cv2.resize(image,(image_size,image_size))\n",
        "        except:\n",
        "            continue;\n",
        "        dataset.append([np.array(image),np.array(label)]);\n",
        "    random.shuffle(dataset);\n",
        "\n",
        "    return dataset;"
      ]
    },
    {
      "cell_type": "code",
      "execution_count": null,
      "metadata": {
        "id": "Ewpjclykbl7C"
      },
      "outputs": [],
      "source": [
        "# Normal == 0\n",
        "# Cataract == 1\n",
        "# Diabetes == 2\n",
        "# Glaucoma == 3\n",
        "# HyperTension == 4\n",
        "# Myopia == 5\n",
        "# Age == 6\n",
        "# Other == 7\n",
        "\n",
        "dataset = dataset_generator(normal,0)\n",
        "dataset = dataset_generator(cataract,1)\n",
        "dataset = dataset_generator(diab,2)\n",
        "dataset = dataset_generator(glaucoma,3)\n",
        "dataset = dataset_generator(hyper,4)\n",
        "dataset = dataset_generator(myopia,5)\n",
        "dataset = dataset_generator(age,6)\n",
        "dataset = dataset_generator(other,7)\n",
        "\n",
        "len(dataset)"
      ]
    },
    {
      "cell_type": "code",
      "execution_count": null,
      "metadata": {
        "id": "uVnTGhbfb2fC"
      },
      "outputs": [],
      "source": [
        "plt.figure(figsize=(12,7))\n",
        "for i in range(10):\n",
        "    sample = random.choice(range(len(dataset)))\n",
        "    image = dataset[sample][0]\n",
        "    category = dataset[sample][1]\n",
        "\n",
        "    if category== 0:\n",
        "        label = \"Normal\"\n",
        "    elif category == 1 :\n",
        "        label = \"Cataract\"\n",
        "    elif category == 2:\n",
        "        label = \"Diabetes\"\n",
        "    elif category == 3:\n",
        "        label = \"Glaucoma\"\n",
        "    elif category == 4:\n",
        "        label = \"Hypertension\"\n",
        "    elif category == 5:\n",
        "        label = \"Myopia\"\n",
        "    elif category == 6:\n",
        "        label = \"Age Issues\"\n",
        "    else:\n",
        "        label = \"Other\"\n",
        "\n",
        "    plt.subplot(2,5,i+1)\n",
        "    plt.imshow(image)\n",
        "    plt.xlabel(label)\n",
        "plt.tight_layout()"
      ]
    },
    {
      "cell_type": "markdown",
      "metadata": {
        "id": "qxr8LTqmcnku"
      },
      "source": [
        "**Splitting the dataset**"
      ]
    },
    {
      "cell_type": "code",
      "execution_count": null,
      "metadata": {
        "id": "q7jz6GFhcnbC"
      },
      "outputs": [],
      "source": [
        "train_x = np.array([i[0] for i in dataset]).reshape(-1,image_size,image_size,3);\n",
        "train_y = np.array([i[1] for i in dataset])\n",
        "\n",
        "from sklearn.model_selection import train_test_split\n",
        "from tensorflow.keras.utils import to_categorical\n",
        "\n",
        "x_train , x_test , y_train, y_test = train_test_split(train_x,train_y, test_size=0.2)\n",
        "x_train, x_val, y_train, y_val = train_test_split(x_train, y_train, test_size=0.1)\n",
        "\n",
        "y_train_cat = to_categorical(y_train,num_classes=8)\n",
        "y_test_cat = to_categorical(y_test,num_classes = 8)\n",
        "y_val_cat = to_categorical(y_val,num_classes = 8)\n"
      ]
    },
    {
      "cell_type": "markdown",
      "metadata": {
        "id": "2mKba3-TcwJA"
      },
      "source": [
        "Creating the model"
      ]
    },
    {
      "cell_type": "code",
      "execution_count": null,
      "metadata": {
        "id": "E8OVoti5hpWO"
      },
      "outputs": [],
      "source": [
        "import pickle\n",
        "from keras.applications.vgg19 import VGG19\n",
        "import matplotlib.pyplot as plt\n",
        "import os\n",
        "import random\n",
        "import shutil\n",
        "from keras.layers import Conv2D, MaxPooling2D, Flatten, Dense, Dropout\n",
        "from keras.models import Sequential\n",
        "import pandas as pd\n",
        "import numpy as np\n",
        "import itertools\n",
        "from PIL import Image\n",
        "from keras.preprocessing.image import ImageDataGenerator\n",
        "from sklearn.metrics import classification_report, precision_recall_fscore_support, confusion_matrix, ConfusionMatrixDisplay\n",
        "\n",
        "\n",
        "# Normal (N),\n",
        "# Diabetes (D),\n",
        "# Glaucoma (G), jaskra\n",
        "# Cataract (C), zaćma\n",
        "# Age related Macular Degeneration (A), Zwyrodnienie plamki żółtej związane z wiekiem\n",
        "# Hypertension (H),\n",
        "# Pathological Myopia (M), krótkowzroczność\n",
        "# Other diseases/abnormalities (O)\n",
        "\n",
        "def create_model(filters, activation, optimizer):\n",
        "    # ************** Model *********************\n",
        "    model = Sequential()\n",
        "    model.add(Conv2D(filters, 7, activation=activation, input_shape=(224, 224, 3), padding=\"same\"))\n",
        "    model.add(MaxPooling2D(2))\n",
        "    model.add(Conv2D(filters * 2, 3, activation=activation, padding=\"same\"))\n",
        "    model.add(MaxPooling2D(2))\n",
        "    model.add(Conv2D(filters * 4, 3, activation=activation, padding=\"same\"))\n",
        "    model.add(MaxPooling2D(2))\n",
        "    model.add(Conv2D(filters * 8, 3, activation=activation, padding=\"same\"))\n",
        "    model.add(MaxPooling2D(2))\n",
        "    model.add(Flatten())\n",
        "    model.add(Dense(128, activation=activation))\n",
        "    model.add(Dense(64, activation=activation))\n",
        "    model.add(Dropout(0.4))\n",
        "    model.add(Dense(8, activation=\"softmax\"))\n",
        "    model.compile(optimizer=optimizer, loss='categorical_crossentropy', metrics=['accuracy'])\n",
        "    model.summary()\n",
        "    return model\n",
        "\n",
        "def plot_accuracy_and_loss(history):\n",
        "    # Plot train & validation accuracy\n",
        "    plt.figure()\n",
        "    plt.plot(history.history[\"accuracy\"],\n",
        "             label=\"Train Accuracy\",\n",
        "             color=\"red\")\n",
        "    plt.plot(history.history[\"val_accuracy\"],\n",
        "             label=\"Validation Accuracy\",\n",
        "             color=\"mediumvioletred\",\n",
        "             linestyle=\"dashed\",\n",
        "             markeredgecolor=\"blue\",\n",
        "             markeredgewidth=2)\n",
        "    plt.title(\"Model Accuracy\", color=\"darkred\", size=13)\n",
        "    plt.legend()\n",
        "    plt.show()\n",
        "\n",
        "    # Plot train & validation loss\n",
        "    plt.figure()\n",
        "    plt.plot(history.history[\"loss\"],\n",
        "             label=\"Train loss\",\n",
        "             color=\"green\")\n",
        "    plt.plot(history.history[\"val_loss\"],\n",
        "             label=\"Validation Loss\",\n",
        "             color=\"blue\",\n",
        "             linestyle=\"dashed\",\n",
        "             markeredgecolor=\"blue\",\n",
        "             markeredgewidth=2)\n",
        "    plt.title(\"Model Loss\", color=\"black\", size=13)\n",
        "    plt.legend()\n",
        "    plt.show()\n",
        "\n",
        "def fit_and_plot(model, batch_size, epochs):\n",
        "    # ************** Uczenie *********************\n",
        "    history = model.fit(\n",
        "        x_train,\n",
        "        y_train_cat,\n",
        "        batch_size=batch_size,\n",
        "        epochs=epochs,\n",
        "        validation_data=(x_val, y_val_cat))\n",
        "    plot_accuracy_and_loss(history)\n",
        "    loss,accuracy = model.evaluate(x_test,y_test_cat)\n",
        "    return accuracy, model, loss\n",
        "\n",
        "def make_classification_report(model):\n",
        "    y_pred = []\n",
        "    for i in model.predict(x_test):\n",
        "      y_pred.append(np.argmax(np.array(i)).astype(\"int32\"))\n",
        "    report = classification_report(y_test, y_pred, target_names=[\"Normal\",\"Cataract\",\"Diabetes\",\"Glaucoma\",\"Hypertension\",\"Myopia\",\"ARMD\",\"Other\"])\n",
        "    print(report)\n",
        "    precision, recall, f1, support = precision_recall_fscore_support(y_test, y_pred)\n",
        "    print('Suma f1 score: ', sum(f1))\n",
        "    print('Średnia f1 score: ', sum(f1)/len(f1))\n",
        "    plot_confusion_matrix(y_test, y_pred, classes=[\"Normal\",\"Cataract\",\"Diabetes\",\"Glaucoma\",\"Hypertension\",\"Myopia\",\"ARMD\",\"Other\"])\n",
        "\n",
        "def plot_confusion_matrix(true, pred, classes):\n",
        "    disp = ConfusionMatrixDisplay.from_predictions(\n",
        "        y_true=true,\n",
        "        y_pred=pred,\n",
        "        display_labels=classes,\n",
        "        cmap=plt.cm.Blues,\n",
        "        xticks_rotation='vertical'\n",
        "    )\n",
        "    disp.ax_.set_title(\"Confusion Matrix\")\n",
        "    disp.figure_.set_figheight(10)\n",
        "    disp.figure_.set_figwidth(12)\n",
        "    disp2 = ConfusionMatrixDisplay.from_predictions(\n",
        "        y_true=true,\n",
        "        y_pred=pred,\n",
        "        display_labels=classes,\n",
        "        cmap=plt.cm.Blues,\n",
        "        normalize='true',\n",
        "        xticks_rotation='vertical'\n",
        "    )\n",
        "    disp2.ax_.set_title(\"Confusion Matrix\")\n",
        "    disp2.figure_.set_figheight(10)\n",
        "    disp2.figure_.set_figwidth(12)\n",
        "    plt.show()\n",
        "\n",
        "# ************** Parametry *********************\n",
        "activation_values = ['relu', 'tanh']\n",
        "optimizer_values = ['adam', 'SGD']\n",
        "\n",
        "\n",
        "# ************** Uczenie i prezentacja wyników *********************\n",
        "for activation in activation_values:\n",
        "  for optimizer in optimizer_values:\n",
        "    print('Badam optimizer: ' + str(optimizer),  ' dla aktywacji: ' + str(activation))\n",
        "    model = create_model(16, activation, optimizer)\n",
        "    accuracy, model, loss = fit_and_plot(model=model, batch_size=64, epochs=50)\n",
        "    make_classification_report(model)\n"
      ]
    }
  ],
  "metadata": {
    "colab": {
      "provenance": [],
      "gpuType": "T4",
      "toc_visible": true
    },
    "kernelspec": {
      "display_name": "Python 3",
      "name": "python3"
    },
    "language_info": {
      "name": "python"
    },
    "accelerator": "GPU"
  },
  "nbformat": 4,
  "nbformat_minor": 0
}